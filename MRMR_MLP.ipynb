{
 "cells": [
  {
   "cell_type": "code",
   "execution_count": 1,
   "metadata": {},
   "outputs": [
    {
     "name": "stderr",
     "output_type": "stream",
     "text": [
      "  0%|          | 0/28 [00:00<?, ?it/s]"
     ]
    },
    {
     "name": "stdout",
     "output_type": "stream",
     "text": [
      "(14000, 25)\n",
      "Training..\n"
     ]
    },
    {
     "name": "stderr",
     "output_type": "stream",
     "text": [
      "  4%|▎         | 1/28 [00:54<24:40, 54.85s/it]"
     ]
    },
    {
     "name": "stdout",
     "output_type": "stream",
     "text": [
      "Accuracy MLP:  0.9121666666666667\n",
      "Accuracy MLP with  25 features :  0.9121666666666667\n",
      "(14000, 26)\n",
      "Training..\n"
     ]
    },
    {
     "name": "stderr",
     "output_type": "stream",
     "text": [
      "  7%|▋         | 2/28 [02:00<26:28, 61.10s/it]"
     ]
    },
    {
     "name": "stdout",
     "output_type": "stream",
     "text": [
      "Accuracy MLP:  0.9238333333333333\n",
      "Accuracy MLP with  26 features :  0.9238333333333333\n",
      "(14000, 27)\n",
      "Training..\n"
     ]
    },
    {
     "name": "stderr",
     "output_type": "stream",
     "text": [
      " 11%|█         | 3/28 [02:55<24:21, 58.46s/it]"
     ]
    },
    {
     "name": "stdout",
     "output_type": "stream",
     "text": [
      "Accuracy MLP:  0.9206666666666666\n",
      "Accuracy MLP with  27 features :  0.9206666666666666\n",
      "(14000, 28)\n",
      "Training..\n"
     ]
    },
    {
     "name": "stderr",
     "output_type": "stream",
     "text": [
      " 14%|█▍        | 4/28 [03:56<23:50, 59.59s/it]"
     ]
    },
    {
     "name": "stdout",
     "output_type": "stream",
     "text": [
      "Accuracy MLP:  0.9218333333333333\n",
      "Accuracy MLP with  28 features :  0.9218333333333333\n",
      "(14000, 29)\n",
      "Training..\n"
     ]
    },
    {
     "name": "stderr",
     "output_type": "stream",
     "text": [
      "c:\\Users\\moham\\OneDrive\\Desktop\\malware\\env\\lib\\site-packages\\sklearn\\neural_network\\_multilayer_perceptron.py:692: ConvergenceWarning: Stochastic Optimizer: Maximum iterations (300) reached and the optimization hasn't converged yet.\n",
      "  warnings.warn(\n",
      " 18%|█▊        | 5/28 [05:05<24:03, 62.75s/it]"
     ]
    },
    {
     "name": "stdout",
     "output_type": "stream",
     "text": [
      "Accuracy MLP:  0.9216666666666666\n",
      "Accuracy MLP with  29 features :  0.9216666666666666\n",
      "(14000, 30)\n",
      "Training..\n"
     ]
    },
    {
     "name": "stderr",
     "output_type": "stream",
     "text": [
      " 21%|██▏       | 6/28 [06:11<23:25, 63.88s/it]"
     ]
    },
    {
     "name": "stdout",
     "output_type": "stream",
     "text": [
      "Accuracy MLP:  0.9145\n",
      "Accuracy MLP with  30 features :  0.9145\n",
      "(14000, 31)\n",
      "Training..\n"
     ]
    },
    {
     "name": "stderr",
     "output_type": "stream",
     "text": [
      " 25%|██▌       | 7/28 [06:52<19:46, 56.50s/it]"
     ]
    },
    {
     "name": "stdout",
     "output_type": "stream",
     "text": [
      "Accuracy MLP:  0.912\n",
      "Accuracy MLP with  31 features :  0.912\n",
      "(14000, 32)\n",
      "Training..\n"
     ]
    },
    {
     "name": "stderr",
     "output_type": "stream",
     "text": [
      " 29%|██▊       | 8/28 [07:41<18:01, 54.09s/it]"
     ]
    },
    {
     "name": "stdout",
     "output_type": "stream",
     "text": [
      "Accuracy MLP:  0.9266666666666666\n",
      "Accuracy MLP with  32 features :  0.9266666666666666\n",
      "(14000, 33)\n",
      "Training..\n"
     ]
    },
    {
     "name": "stderr",
     "output_type": "stream",
     "text": [
      "c:\\Users\\moham\\OneDrive\\Desktop\\malware\\env\\lib\\site-packages\\sklearn\\neural_network\\_multilayer_perceptron.py:692: ConvergenceWarning: Stochastic Optimizer: Maximum iterations (300) reached and the optimization hasn't converged yet.\n",
      "  warnings.warn(\n",
      " 32%|███▏      | 9/28 [08:50<18:38, 58.85s/it]"
     ]
    },
    {
     "name": "stdout",
     "output_type": "stream",
     "text": [
      "Accuracy MLP:  0.9171666666666667\n",
      "Accuracy MLP with  33 features :  0.9171666666666667\n",
      "(14000, 34)\n",
      "Training..\n"
     ]
    },
    {
     "name": "stderr",
     "output_type": "stream",
     "text": [
      " 36%|███▌      | 10/28 [09:40<16:45, 55.88s/it]"
     ]
    },
    {
     "name": "stdout",
     "output_type": "stream",
     "text": [
      "Accuracy MLP:  0.9276666666666666\n",
      "Accuracy MLP with  34 features :  0.9276666666666666\n",
      "(14000, 35)\n",
      "Training..\n"
     ]
    },
    {
     "name": "stderr",
     "output_type": "stream",
     "text": [
      " 39%|███▉      | 11/28 [10:27<15:04, 53.21s/it]"
     ]
    },
    {
     "name": "stdout",
     "output_type": "stream",
     "text": [
      "Accuracy MLP:  0.9256666666666666\n",
      "Accuracy MLP with  35 features :  0.9256666666666666\n",
      "(14000, 36)\n",
      "Training..\n"
     ]
    },
    {
     "name": "stderr",
     "output_type": "stream",
     "text": [
      " 43%|████▎     | 12/28 [11:17<13:56, 52.26s/it]"
     ]
    },
    {
     "name": "stdout",
     "output_type": "stream",
     "text": [
      "Accuracy MLP:  0.9143333333333333\n",
      "Accuracy MLP with  36 features :  0.9143333333333333\n",
      "(14000, 37)\n",
      "Training..\n"
     ]
    },
    {
     "name": "stderr",
     "output_type": "stream",
     "text": [
      " 46%|████▋     | 13/28 [11:52<11:45, 47.03s/it]"
     ]
    },
    {
     "name": "stdout",
     "output_type": "stream",
     "text": [
      "Accuracy MLP:  0.9206666666666666\n",
      "Accuracy MLP with  37 features :  0.9206666666666666\n",
      "(14000, 38)\n",
      "Training..\n"
     ]
    },
    {
     "name": "stderr",
     "output_type": "stream",
     "text": [
      " 50%|█████     | 14/28 [12:33<10:33, 45.28s/it]"
     ]
    },
    {
     "name": "stdout",
     "output_type": "stream",
     "text": [
      "Accuracy MLP:  0.9206666666666666\n",
      "Accuracy MLP with  38 features :  0.9206666666666666\n",
      "(14000, 39)\n",
      "Training..\n"
     ]
    },
    {
     "name": "stderr",
     "output_type": "stream",
     "text": [
      " 54%|█████▎    | 15/28 [13:20<09:54, 45.76s/it]"
     ]
    },
    {
     "name": "stdout",
     "output_type": "stream",
     "text": [
      "Accuracy MLP:  0.9206666666666666\n",
      "Accuracy MLP with  39 features :  0.9206666666666666\n",
      "(14000, 40)\n",
      "Training..\n"
     ]
    },
    {
     "name": "stderr",
     "output_type": "stream",
     "text": [
      " 57%|█████▋    | 16/28 [14:16<09:44, 48.72s/it]"
     ]
    },
    {
     "name": "stdout",
     "output_type": "stream",
     "text": [
      "Accuracy MLP:  0.9286666666666666\n",
      "Accuracy MLP with  40 features :  0.9286666666666666\n",
      "(14000, 41)\n",
      "Training..\n"
     ]
    },
    {
     "name": "stderr",
     "output_type": "stream",
     "text": [
      " 61%|██████    | 17/28 [15:07<09:05, 49.63s/it]"
     ]
    },
    {
     "name": "stdout",
     "output_type": "stream",
     "text": [
      "Accuracy MLP:  0.9293333333333333\n",
      "Accuracy MLP with  41 features :  0.9293333333333333\n",
      "(14000, 42)\n",
      "Training..\n"
     ]
    },
    {
     "name": "stderr",
     "output_type": "stream",
     "text": [
      " 64%|██████▍   | 18/28 [16:12<09:00, 54.07s/it]"
     ]
    },
    {
     "name": "stdout",
     "output_type": "stream",
     "text": [
      "Accuracy MLP:  0.9275\n",
      "Accuracy MLP with  42 features :  0.9275\n",
      "(14000, 43)\n",
      "Training..\n"
     ]
    },
    {
     "name": "stderr",
     "output_type": "stream",
     "text": [
      " 68%|██████▊   | 19/28 [17:04<08:01, 53.47s/it]"
     ]
    },
    {
     "name": "stdout",
     "output_type": "stream",
     "text": [
      "Accuracy MLP:  0.9278333333333333\n",
      "Accuracy MLP with  43 features :  0.9278333333333333\n",
      "(14000, 44)\n",
      "Training..\n"
     ]
    },
    {
     "name": "stderr",
     "output_type": "stream",
     "text": [
      " 71%|███████▏  | 20/28 [17:50<06:49, 51.21s/it]"
     ]
    },
    {
     "name": "stdout",
     "output_type": "stream",
     "text": [
      "Accuracy MLP:  0.923\n",
      "Accuracy MLP with  44 features :  0.923\n",
      "(14000, 45)\n",
      "Training..\n"
     ]
    },
    {
     "name": "stderr",
     "output_type": "stream",
     "text": [
      " 75%|███████▌  | 21/28 [18:39<05:53, 50.49s/it]"
     ]
    },
    {
     "name": "stdout",
     "output_type": "stream",
     "text": [
      "Accuracy MLP:  0.9283333333333333\n",
      "Accuracy MLP with  45 features :  0.9283333333333333\n",
      "(14000, 46)\n",
      "Training..\n"
     ]
    },
    {
     "name": "stderr",
     "output_type": "stream",
     "text": [
      " 79%|███████▊  | 22/28 [19:25<04:55, 49.33s/it]"
     ]
    },
    {
     "name": "stdout",
     "output_type": "stream",
     "text": [
      "Accuracy MLP:  0.9241666666666667\n",
      "Accuracy MLP with  46 features :  0.9241666666666667\n",
      "(14000, 47)\n",
      "Training..\n"
     ]
    },
    {
     "name": "stderr",
     "output_type": "stream",
     "text": [
      " 82%|████████▏ | 23/28 [20:09<03:57, 47.57s/it]"
     ]
    },
    {
     "name": "stdout",
     "output_type": "stream",
     "text": [
      "Accuracy MLP:  0.9246666666666666\n",
      "Accuracy MLP with  47 features :  0.9246666666666666\n",
      "(14000, 48)\n",
      "Training..\n"
     ]
    },
    {
     "name": "stderr",
     "output_type": "stream",
     "text": [
      " 86%|████████▌ | 24/28 [20:55<03:09, 47.31s/it]"
     ]
    },
    {
     "name": "stdout",
     "output_type": "stream",
     "text": [
      "Accuracy MLP:  0.9263333333333333\n",
      "Accuracy MLP with  48 features :  0.9263333333333333\n",
      "(14000, 49)\n",
      "Training..\n"
     ]
    },
    {
     "name": "stderr",
     "output_type": "stream",
     "text": [
      " 89%|████████▉ | 25/28 [21:41<02:19, 46.66s/it]"
     ]
    },
    {
     "name": "stdout",
     "output_type": "stream",
     "text": [
      "Accuracy MLP:  0.9261666666666667\n",
      "Accuracy MLP with  49 features :  0.9261666666666667\n",
      "(14000, 50)\n",
      "Training..\n"
     ]
    },
    {
     "name": "stderr",
     "output_type": "stream",
     "text": [
      " 93%|█████████▎| 26/28 [22:13<01:24, 42.27s/it]"
     ]
    },
    {
     "name": "stdout",
     "output_type": "stream",
     "text": [
      "Accuracy MLP:  0.925\n",
      "Accuracy MLP with  50 features :  0.925\n",
      "(14000, 51)\n",
      "Training..\n"
     ]
    },
    {
     "name": "stderr",
     "output_type": "stream",
     "text": [
      " 96%|█████████▋| 27/28 [22:52<00:41, 41.57s/it]"
     ]
    },
    {
     "name": "stdout",
     "output_type": "stream",
     "text": [
      "Accuracy MLP:  0.924\n",
      "Accuracy MLP with  51 features :  0.924\n",
      "(14000, 52)\n",
      "Training..\n"
     ]
    },
    {
     "name": "stderr",
     "output_type": "stream",
     "text": [
      "100%|██████████| 28/28 [23:43<00:00, 50.84s/it]"
     ]
    },
    {
     "name": "stdout",
     "output_type": "stream",
     "text": [
      "Accuracy MLP:  0.9226666666666666\n",
      "Accuracy MLP with  52 features :  0.9226666666666666\n",
      "\n",
      "\n",
      "Best MLP acc with  41 features :  0.9293333333333333\n"
     ]
    },
    {
     "name": "stderr",
     "output_type": "stream",
     "text": [
      "\n"
     ]
    }
   ],
   "source": [
    "from sklearn.feature_selection import f_regression\n",
    "from sklearn import datasets\n",
    "from sklearn import metrics\n",
    "from sklearn import svm\n",
    "from sklearn.model_selection import train_test_split\n",
    "import numpy as np\n",
    "from tqdm import tqdm\n",
    "from sklearn.ensemble import RandomForestClassifier\n",
    "from sklearn.feature_selection import RFE, SelectFromModel, RFECV\n",
    "from sklearn.model_selection import train_test_split\n",
    "import pandas as pd\n",
    "import numpy as np\n",
    "import matplotlib.pyplot as plt\n",
    "import seaborn as sns\n",
    "from sklearn.metrics import classification_report, confusion_matrix\n",
    "from sklearn.preprocessing import MinMaxScaler\n",
    "from sklearn.feature_selection import VarianceThreshold\n",
    "from sklearn.feature_selection import RFECV\n",
    "from sklearn.feature_selection import SelectKBest\n",
    "from sklearn.feature_selection import chi2\n",
    "from sklearn.feature_selection import SelectFromModel\n",
    "from sklearn.ensemble import AdaBoostRegressor\n",
    "from sklearn.neural_network import MLPClassifier\n",
    "\n",
    "global X_train, X_test, y_train, y_test\n",
    "\n",
    "\n",
    "def splitlist(list):\n",
    "    list1 = []\n",
    "    list2 = []\n",
    "    for i in list:\n",
    "        list1.append(i[0])\n",
    "        list2.append(i[1])\n",
    "    return list1, list2\n",
    "\n",
    "\n",
    "def merge_shuffle(list1, list2):\n",
    "    list = []\n",
    "    for i in range(len(list1)):\n",
    "        list.append(list1[i])\n",
    "        list.append(list2[i])\n",
    "    # random.shuffle(list)\n",
    "    return list\n",
    "\n",
    "\n",
    "def readfile(file):\n",
    "    f = open(file, \"r\")\n",
    "    result = []\n",
    "    c = 0\n",
    "    for i in f:\n",
    "        if c <= 10000:\n",
    "            # print(c)\n",
    "            c += 1\n",
    "            # print(c)\n",
    "            list = []\n",
    "            line = i[1:-3].split(\", [\")\n",
    "            # print(line)\n",
    "            list.append(int(line[0]))\n",
    "            temp = []\n",
    "            # print(list)\n",
    "            for j in line[1].split(\", \"):\n",
    "                if \".\" not in j:\n",
    "                    temp.append(int(j))\n",
    "                else:\n",
    "                    temp.append(float(j))\n",
    "            # print(temp)\n",
    "            list.append(temp)\n",
    "            # print(\"test\")\n",
    "            result.append(list)\n",
    "    f.close()\n",
    "    return result\n",
    "\n",
    "\n",
    "def selectfeatures(features, indexs):\n",
    "    result = []\n",
    "    length = len(features[0])\n",
    "    for w in features:\n",
    "        temp = []\n",
    "        for i in range(1, len(w)+1):\n",
    "            if i in indexs:\n",
    "                temp.append(w[i-1])\n",
    "        result.append(temp)\n",
    "    return result\n",
    "\n",
    "\n",
    "def Scale():\n",
    "    global X_train, X_test\n",
    "    X_train_svm, X_test_svm = X_train, X_test\n",
    "    scaler = MinMaxScaler()\n",
    "    scaler.fit(X_train)\n",
    "    X_train_svm = scaler.transform(X_train)\n",
    "    X_test_svm = scaler.transform(X_test)\n",
    "    return X_train_svm, X_test_svm\n",
    "\n",
    "\n",
    "def Kbest(X_train_svm, X_test_svm, n):\n",
    "    sel = SelectKBest(chi2, k=n)\n",
    "    sel.fit(X_train_svm, y_train)\n",
    "    # print(sel.scores_)\n",
    "    X_train_svm = sel.transform(X_train_svm)\n",
    "    X_test_svm = sel.transform(X_test_svm)\n",
    "    return X_train_svm, X_test_svm\n",
    "\n",
    "\n",
    "idx = [1, 2, 3, 4, 5, 6, 7, 8, 9, 10, 11, 12, 13, 14, 15, 16, 17, 18, 19, 20, 21, 22, 23, 24, 25, 26, 27,\n",
    "       28, 29, 30, 31, 32, 33, 34, 35, 36, 37, 38, 39, 40, 41, 42, 43, 44, 45, 46, 47, 48, 49, 50, 51, 52, 53, 54]\n",
    "mal = splitlist(readfile(\"malfeatures.txt\"))\n",
    "beg = splitlist(readfile(\"begfeatures.txt\"))\n",
    "features = merge_shuffle(mal[1], beg[1])\n",
    "labels = merge_shuffle(mal[0], beg[0])\n",
    "features = np.array(features)\n",
    "var_thr = VarianceThreshold(threshold=0.0)\n",
    "features = var_thr.fit_transform(features)\n",
    "rfa = 0\n",
    "svma = 0\n",
    "rfmrmr = []\n",
    "svmmrmr = []\n",
    "\n",
    "X = pd.DataFrame(features)\n",
    "y = pd.Series(labels)\n",
    "\n",
    "\n",
    "F = pd.Series(f_regression(X, y)[0], index=X.columns)\n",
    "corr = pd.DataFrame(.00001, index=X.columns, columns=X.columns)\n",
    "for i in tqdm(range(25, len(X.columns)+1)):\n",
    "    selected = []\n",
    "    not_selected = X.columns.to_list()\n",
    "    for i in range(i):\n",
    "        if i > 0:\n",
    "            last_selected = selected[-1]\n",
    "            corr.loc[not_selected, last_selected] = X[not_selected].corrwith(\n",
    "                X[last_selected]).abs().clip(.00001)\n",
    "        score = F.loc[not_selected] / corr.loc[not_selected,\n",
    "                                               selected].mean(axis=1).fillna(.00001)\n",
    "        best = score.index[score.argmax()]\n",
    "        selected.append(best)\n",
    "        not_selected.remove(best)\n",
    "\n",
    "    idx = [i+1 for i in selected]\n",
    "    f = selectfeatures(features, idx)\n",
    "\n",
    "    X_train, X_test, y_train, y_test = train_test_split(\n",
    "        f, labels, test_size=0.3, random_state=109)\n",
    "    X_train = np.array(X_train)\n",
    "    print(X_train.shape)\n",
    "\n",
    "    X1 = Scale()\n",
    "    X_train_svm = X1[0]\n",
    "    X_test_svm = X1[1]\n",
    "\n",
    "    classifier = MLPClassifier(hidden_layer_sizes=(\n",
    "        150, 100, 50), max_iter=300, activation='relu', solver='adam', random_state=1)\n",
    "    print('Training..')\n",
    "    classifier.fit(X_train_svm, y_train)\n",
    "    y_pred = classifier.predict(X_test_svm)\n",
    "    print(\"Accuracy MLP: \", metrics.accuracy_score(y_test, y_pred))\n",
    "    temp = metrics.accuracy_score(y_test, y_pred)\n",
    "    print(\"Accuracy MLP with \", i+1, \"features : \",\n",
    "          temp)\n",
    "    if temp > rfa:\n",
    "        rfa = temp\n",
    "        rfmrmr = i+1\n",
    "\n",
    "    \"\"\"\n",
    "    print(\"traning...\")\n",
    "    rf_w = RandomForestClassifier(random_state=100, n_estimators=100)\n",
    "    rf_w.fit(X_train, y_train)\n",
    "    y_pred_rf_w = rf_w.predict(X_test)\n",
    "    temp = metrics.accuracy_score(y_test, y_pred_rf_w)\n",
    "    print(\"Accuracy Random Forest with \", i+1, \"features : \",\n",
    "          temp)\n",
    "    if temp > rfa:\n",
    "        rfa = temp\n",
    "        rfmrmr = i+1\n",
    "\n",
    "    X1 = Scale()\n",
    "    X_train_svm = X1[0]\n",
    "    X_test_svm = X1[1]\n",
    "\n",
    "    clf = svm.SVC(kernel='rbf', gamma=0.7, C=200)\n",
    "    print(\"traning SVM...\")\n",
    "    clf.fit(X_train_svm, y_train)\n",
    "    y_pred = clf.predict(X_test_svm)\n",
    "    temp = metrics.accuracy_score(y_test, y_pred)\n",
    "    print(\"Accuracy linear SVM with \", i+1, \"features : \",\n",
    "          temp)\n",
    "    if temp > svma:\n",
    "        svma = temp\n",
    "        svmmrmr = i+1\n",
    "    \"\"\"\n",
    "print()\n",
    "print()\n",
    "print(\"Best MLP acc with \", rfmrmr, \"features : \", rfa)\n",
    "#print(\"Random Forest with \", rfmrmr, \"features : \", rfa)\n",
    "#print(\"SVM with \", svmmrmr, \"features : \", svma)\n"
   ]
  }
 ],
 "metadata": {
  "interpreter": {
   "hash": "84a32eddde857eea1124ae266fb162d150ebfcc6b63fb8d8eb4ad6695eee3bdc"
  },
  "kernelspec": {
   "display_name": "Python 3.9.1 ('env': venv)",
   "language": "python",
   "name": "python3"
  },
  "language_info": {
   "codemirror_mode": {
    "name": "ipython",
    "version": 3
   },
   "file_extension": ".py",
   "mimetype": "text/x-python",
   "name": "python",
   "nbconvert_exporter": "python",
   "pygments_lexer": "ipython3",
   "version": "3.9.1"
  },
  "orig_nbformat": 4
 },
 "nbformat": 4,
 "nbformat_minor": 2
}
