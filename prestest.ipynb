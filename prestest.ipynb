{
 "cells": [
  {
   "cell_type": "code",
   "execution_count": 2,
   "metadata": {},
   "outputs": [
    {
     "name": "stdout",
     "output_type": "stream",
     "text": [
      "Number of samples 20000\n",
      "Shape of samples (14000, 54)\n",
      "Traning samples: (14000, 52)\n",
      "Testing Samples:  (6000, 52)\n"
     ]
    }
   ],
   "source": [
    "from sklearn import datasets\n",
    "from sklearn import metrics\n",
    "from sklearn import svm\n",
    "from sklearn.model_selection import train_test_split\n",
    "import numpy as np\n",
    "from tqdm import tqdm\n",
    "from sklearn.ensemble import RandomForestClassifier\n",
    "from sklearn.feature_selection import RFE, SelectFromModel, RFECV\n",
    "from sklearn.model_selection import train_test_split\n",
    "import pandas as pd\n",
    "import numpy as np\n",
    "import matplotlib.pyplot as plt\n",
    "import seaborn as sns\n",
    "from sklearn.metrics import classification_report, confusion_matrix\n",
    "from sklearn.preprocessing import MinMaxScaler\n",
    "from sklearn.feature_selection import VarianceThreshold\n",
    "from sklearn.feature_selection import RFECV\n",
    "from sklearn.feature_selection import SelectKBest\n",
    "from sklearn.feature_selection import chi2\n",
    "from sklearn.feature_selection import SelectFromModel\n",
    "from sklearn.ensemble import AdaBoostRegressor\n",
    "from sklearn.neural_network import MLPClassifier\n",
    "from sklearn.metrics import RocCurveDisplay\n",
    "global X_train, X_test, y_train, y_test\n",
    "\n",
    "\n",
    "def splitlist(list):\n",
    "    list1 = []\n",
    "    list2 = []\n",
    "    for i in list:\n",
    "        list1.append(i[0])\n",
    "        list2.append(i[1])\n",
    "    return list1, list2\n",
    "\n",
    "\n",
    "def merge_shuffle(list1, list2):\n",
    "    list = []\n",
    "    for i in range(len(list1)):\n",
    "        list.append(list1[i])\n",
    "        list.append(list2[i])\n",
    "    # random.shuffle(list)\n",
    "    return list\n",
    "\n",
    "\n",
    "def readfile(file):\n",
    "    f = open(file, \"r\")\n",
    "    result = []\n",
    "    c = 0\n",
    "    for i in f:\n",
    "        if c <= 10000:\n",
    "            # print(c)\n",
    "            c += 1\n",
    "            # print(c)\n",
    "            list = []\n",
    "            line = i[1:-3].split(\", [\")\n",
    "            # print(line)\n",
    "            list.append(int(line[0]))\n",
    "            temp = []\n",
    "            # print(list)\n",
    "            for j in line[1].split(\", \"):\n",
    "                if \".\" not in j:\n",
    "                    temp.append(int(j))\n",
    "                else:\n",
    "                    temp.append(float(j))\n",
    "            # print(temp)\n",
    "            list.append(temp)\n",
    "            # print(\"test\")\n",
    "            result.append(list)\n",
    "    f.close()\n",
    "    return result\n",
    "\n",
    "\n",
    "def selectfeatures(features, indexs):\n",
    "    result = []\n",
    "    length = len(features[0])\n",
    "    for w in features:\n",
    "        temp = []\n",
    "        for i in range(1, len(w)+1):\n",
    "            if i in indexs:\n",
    "                temp.append(w[i-1])\n",
    "        result.append(temp)\n",
    "    return result\n",
    "\n",
    "\n",
    "def Scale():\n",
    "    global X_train, X_test\n",
    "    X_train_svm, X_test_svm = X_train, X_test\n",
    "    scaler = MinMaxScaler()\n",
    "    scaler.fit(X_train)\n",
    "    X_train_svm = scaler.transform(X_train)\n",
    "    X_test_svm = scaler.transform(X_test)\n",
    "    return X_train_svm, X_test_svm\n",
    "\n",
    "\n",
    "def Kbest(X_train_svm, X_test_svm, n):\n",
    "    sel = SelectKBest(chi2, k=n)\n",
    "    sel.fit(X_train_svm, y_train)\n",
    "    # print(sel.scores_)\n",
    "    X_train_svm = sel.transform(X_train_svm)\n",
    "    X_test_svm = sel.transform(X_test_svm)\n",
    "    return X_train_svm, X_test_svm\n",
    "\n",
    "def accuracyCM(confusion_matrix):\n",
    "   diagonal_sum = confusion_matrix.trace()\n",
    "   sum_of_all_elements = confusion_matrix.sum()\n",
    "   return diagonal_sum / sum_of_all_elements\n",
    "\n",
    "def MYSVM():\n",
    "    X = Scale()\n",
    "    X = Kbest(X[0], X[1], 52)\n",
    "    X_train_svm = X[0]\n",
    "    X_test_svm = X[1]\n",
    "    #print(\"Training samples SVM: \", X_train_svm.shape)\n",
    "    clf = svm.SVC(kernel='linear')\n",
    "    print(\"traning...\")\n",
    "    clf.fit(X_train_svm, y_train)\n",
    "    y_pred = clf.predict(X_test_svm)\n",
    "    print(\"Accuracy linear SVM : \", metrics.accuracy_score(y_test, y_pred))\n",
    "    conf_mat = confusion_matrix(y_test, y_pred)\n",
    "    print(\"Confusion Matrix:\")\n",
    "    print(conf_mat)\n",
    "    print(classification_report(y_test, y_pred))\n",
    "    svc_disp = RocCurveDisplay.from_estimator(clf, X_test_svm, y_test)\n",
    "    plt.show()\n",
    "\n",
    "def KNN(n):\n",
    "    X = Scale()\n",
    "    X = Kbest(X[0], X[1], 48)\n",
    "    X_train_svm = X[0]\n",
    "    X_test_svm = X[1]\n",
    "    from sklearn.neighbors import KNeighborsClassifier\n",
    "    model = KNeighborsClassifier(n_neighbors=n)\n",
    "    model.fit(X_train_svm,y_train)\n",
    "    y_pred = model.predict(X_test_svm)\n",
    "    print(\"Accuracy Knn : \", metrics.accuracy_score(y_test, y_pred))\n",
    "    conf_mat = confusion_matrix(y_test, y_pred)\n",
    "    print(\"Confusion Matrix:\")\n",
    "    print(conf_mat)\n",
    "    print(classification_report(y_test, y_pred))\n",
    "    svc_disp = RocCurveDisplay.from_estimator(model, X_test_svm, y_test)\n",
    "    plt.show()\n",
    "    return metrics.accuracy_score(y_test, y_pred)\n",
    "\n",
    "def RandomForest(n=54):\n",
    "    t = idx[:n]\n",
    "    print(\"traning...\")\n",
    "    rf_w = RandomForestClassifier(random_state=100, n_estimators=100)\n",
    "    rf_w.fit(X_train, y_train)\n",
    "    y_pred_rf_w = rf_w.predict(X_test)\n",
    "    print(\"Accuracy Random Forest : \",\n",
    "          metrics.accuracy_score(y_test, y_pred_rf_w))\n",
    "    conf_mat = confusion_matrix(y_test, y_pred_rf_w)\n",
    "    print(\"Confusion Matrix:\")\n",
    "    print(conf_mat)\n",
    "    print(classification_report(y_test, y_pred_rf_w))\n",
    "    # plot Importances\n",
    "    importances = rf_w.feature_importances_\n",
    "    final_df = pd.DataFrame(\n",
    "        {\"Features\": t, \"Importances\": importances})\n",
    "    final_df.set_index('Importances')\n",
    "    final_df = final_df.sort_values('Importances')\n",
    "    plt.figure(figsize=(10, 3))\n",
    "    plt.xticks(rotation=45)\n",
    "    sns.barplot(x=\"Features\", y=\"Importances\", data=final_df)\n",
    "    plt.show()\n",
    "   \n",
    "from sklearn.discriminant_analysis import LinearDiscriminantAnalysis\n",
    "def LDA(n):\n",
    "    X = Scale()\n",
    "    X = Kbest(X[0], X[1], n)\n",
    "    X_train_svm = X[0]\n",
    "    X_test_svm = X[1]\n",
    "    model = LinearDiscriminantAnalysis()\n",
    "    model.fit(X_train_svm, y_train)\n",
    "    y_pred = model.predict(X_test_svm)\n",
    "    #print(\"Accuracy Knn : \", metrics.accuracy_score(y_test, y_pred))\n",
    "    #conf_mat = confusion_matrix(y_test, y_pred)\n",
    "    #print(\"Confusion Matrix:\")\n",
    "    #print(conf_mat)\n",
    "    #print(classification_report(y_test, y_pred))\n",
    "    #svc_disp = RocCurveDisplay.from_estimator(model, X_test_svm, y_test)\n",
    "    #plt.show()\n",
    "    return metrics.accuracy_score(y_test, y_pred)\n",
    "\n",
    "def RFRFECV():\n",
    "    model_tree = RandomForestClassifier(n_estimators=100, random_state=100)\n",
    "    print(\"RFECV\")\n",
    "    sel_rfe_tree = RFECV(estimator=model_tree, step=1)\n",
    "    print(\"traning...\")\n",
    "    X_train_rfe_tree = sel_rfe_tree.fit_transform(X_train, y_train)\n",
    "    print(\"Training Samples: \", X_train_rfe_tree.shape)\n",
    "    print(sel_rfe_tree.get_support())\n",
    "    # print(sel_rfe_tree.grid_scores_)\n",
    "    # print(X_train_rfe_tree.shape)\n",
    "    # print(sel_rfe_tree.ranking_)\n",
    "    y_pred_rf = sel_rfe_tree.predict(X_test)\n",
    "    print(\"Accuracy Random Forest with RFECV : \",\n",
    "          metrics.accuracy_score(y_test, y_pred_rf))\n",
    "    conf_mat = confusion_matrix(y_test, y_pred_rf)\n",
    "    print(\"Confusion Matrix:\")\n",
    "    print(conf_mat)\n",
    "    print(classification_report(y_test, y_pred_rf))\n",
    "    importances = model_tree.feature_importances_\n",
    "    final_df = pd.DataFrame(\n",
    "        {\"Features\": idx[:43], \"Importances\": importances})\n",
    "    final_df.set_index('Importances')\n",
    "    final_df = final_df.sort_values('Importances')\n",
    "    plt.figure(figsize=(10, 3))\n",
    "    plt.xticks(rotation=45)\n",
    "    sns.barplot(x=\"Features\", y=\"Importances\", data=final_df)\n",
    "    plt.show()\n",
    "\n",
    "#function to compute NPV USING CONFUSION MATRIX OF SKLEARN\n",
    "def NPV(y_test, y_pred):\n",
    "    conf_mat = confusion_matrix(y_test, y_pred)\n",
    "    TN = conf_mat[0][0]\n",
    "    FP = conf_mat[0][1]\n",
    "    FN = conf_mat[1][0]\n",
    "    TP = conf_mat[1][1]\n",
    "    NPV = TN / (TN + FN)\n",
    "    return NPV\n",
    "\n",
    "\n",
    "idx = [1, 2, 3, 4, 5, 6, 7, 8, 9, 10, 11, 12, 13, 14, 15, 16, 17, 18, 19, 20, 21, 22, 23, 24, 25, 26, 27,\n",
    "       28, 29, 30, 31, 32, 33, 34, 35, 36, 37, 38, 39, 40, 41, 42, 43, 44, 45, 46, 47, 48, 49, 50, 51, 52, 53, 54]\n",
    "mal = splitlist(readfile(\"malfeatures.txt\"))\n",
    "beg = splitlist(readfile(\"begfeatures.txt\"))\n",
    "features = merge_shuffle(mal[1], beg[1])\n",
    "labels = merge_shuffle(mal[0], beg[0])\n",
    "#features = selectfeatures(features, indexes)\n",
    "features = np.array(features)\n",
    "print(\"Number of samples\", len(features))\n",
    "\n",
    "X_train, X_test, y_train, y_test = train_test_split(\n",
    "    features, labels, test_size=0.3, random_state=109)\n",
    "print(\"Shape of samples\", X_train.shape)\n",
    "\n",
    "var_thr = VarianceThreshold(threshold=0.0)\n",
    "X_train = var_thr.fit_transform(X_train)\n",
    "X_test = var_thr.fit_transform(X_test)\n",
    "print(\"Traning samples:\", X_train.shape)\n",
    "print(\"Testing Samples: \", X_test.shape)"
   ]
  },
  {
   "cell_type": "code",
   "execution_count": 47,
   "metadata": {},
   "outputs": [
    {
     "name": "stderr",
     "output_type": "stream",
     "text": [
      "100%|██████████| 25/25 [00:03<00:00,  6.43it/s]"
     ]
    },
    {
     "name": "stdout",
     "output_type": "stream",
     "text": [
      "Best LDA:  0.8691666666666666\n",
      "Best K:  49\n"
     ]
    },
    {
     "name": "stderr",
     "output_type": "stream",
     "text": [
      "\n"
     ]
    }
   ],
   "source": [
    "max=0\n",
    "id=0\n",
    "for i in tqdm(range(27, 52)):\n",
    "    temp=LDA(i)\n",
    "    if temp>max:\n",
    "        max=temp\n",
    "        id=i\n",
    "print(\"Best LDA: \", max)\n",
    "print(\"Best K: \", id)\n",
    "    "
   ]
  },
  {
   "cell_type": "code",
   "execution_count": 43,
   "metadata": {},
   "outputs": [
    {
     "name": "stdout",
     "output_type": "stream",
     "text": [
      "Accuracy Knn :  0.9205\n",
      "Confusion Matrix:\n",
      "[[2808  242]\n",
      " [ 235 2715]]\n",
      "              precision    recall  f1-score   support\n",
      "\n",
      "           0       0.92      0.92      0.92      3050\n",
      "           1       0.92      0.92      0.92      2950\n",
      "\n",
      "    accuracy                           0.92      6000\n",
      "   macro avg       0.92      0.92      0.92      6000\n",
      "weighted avg       0.92      0.92      0.92      6000\n",
      "\n"
     ]
    },
    {
     "data": {
      "image/png": "[encoded data removed]",
      "text/plain": [
       "<Figure size 432x288 with 1 Axes>"
      ]
     },
     "metadata": {
      "needs_background": "light"
     },
     "output_type": "display_data"
    },
    {
     "name": "stdout",
     "output_type": "stream",
     "text": [
      "Best leaf_size: 1\n",
      "Best p: 1\n",
      "Best n_neighbors: 1\n"
     ]
    }
   ],
   "source": [
    "#List Hyperparameters that we want to tune.\n",
    "leaf_size = list(range(1,50))\n",
    "n_neighbors = list(range(1,30))\n",
    "p=[1,2]\n",
    "X = Scale()\n",
    "X = Kbest(X[0], X[1], 48)\n",
    "X_train_svm = X[0]\n",
    "X_test_svm = X[1]\n",
    "#Convert to dictionary\n",
    "hyperparameters = dict(leaf_size=leaf_size, n_neighbors=n_neighbors, p=p)\n",
    "#Create new KNN object\n",
    "from sklearn.neighbors import KNeighborsClassifier\n",
    "knn_2 = KNeighborsClassifier()\n",
    "#Use GridSearch\n",
    "clf = GridSearchCV(knn_2, hyperparameters, cv=3)\n",
    "#Fit the model\n",
    "model = clf.fit(X_train_svm, y_train)\n",
    "y_pred = model.predict(X_test_svm)\n",
    "print(\"Accuracy Knn : \", metrics.accuracy_score(y_test, y_pred))\n",
    "conf_mat = confusion_matrix(y_test, y_pred)\n",
    "print(\"Confusion Matrix:\")\n",
    "print(conf_mat)\n",
    "print(classification_report(y_test, y_pred))\n",
    "svc_disp = RocCurveDisplay.from_estimator(model, X_test_svm, y_test)\n",
    "plt.show()\n",
    "#Print The value of best Hyperparameters\n",
    "print('Best leaf_size:', model.best_estimator_.get_params()['leaf_size'])\n",
    "print('Best p:',model.best_estimator_.get_params()['p'])\n",
    "print('Best n_neighbors:', model.best_estimator_.get_params()['n_neighbors'])"
   ]
  },
  {
   "cell_type": "code",
   "execution_count": 46,
   "metadata": {},
   "outputs": [
    {
     "name": "stdout",
     "output_type": "stream",
     "text": [
      "traning...\n",
      "Accuracy Random Forest :  0.9478333333333333\n",
      "Confusion Matrix:\n",
      "[[2929  121]\n",
      " [ 192 2758]]\n",
      "              precision    recall  f1-score   support\n",
      "\n",
      "           0       0.94      0.96      0.95      3050\n",
      "           1       0.96      0.93      0.95      2950\n",
      "\n",
      "    accuracy                           0.95      6000\n",
      "   macro avg       0.95      0.95      0.95      6000\n",
      "weighted avg       0.95      0.95      0.95      6000\n",
      "\n"
     ]
    },
    {
     "data": {
      "image/png": "[encoded data removed]",
      "text/plain": [
       "<Figure size 432x288 with 1 Axes>"
      ]
     },
     "metadata": {
      "needs_background": "light"
     },
     "output_type": "display_data"
    }
   ],
   "source": [
    "print(\"traning...\")\n",
    "rf_w = RandomForestClassifier(random_state=100, bootstrap=True,max_features= 'sqrt',min_samples_leaf= 1,min_samples_split= 2,n_estimators= 100)\n",
    "rf_w.fit(X_train, y_train)\n",
    "y_pred_rf_w = rf_w.predict(X_test)\n",
    "print(\"Accuracy Random Forest : \",\n",
    "      metrics.accuracy_score(y_test, y_pred_rf_w))\n",
    "conf_mat = confusion_matrix(y_test, y_pred_rf_w)\n",
    "print(\"Confusion Matrix:\")\n",
    "print(conf_mat)\n",
    "print(classification_report(y_test, y_pred_rf_w))\n",
    "svc_disp = RocCurveDisplay.from_estimator(rf_w, X_test, y_test)\n",
    "plt.show()"
   ]
  },
  {
   "cell_type": "code",
   "execution_count": 10,
   "metadata": {},
   "outputs": [
    {
     "name": "stdout",
     "output_type": "stream",
     "text": [
      "traning...\n",
      "Accuracy Random Forest :  0.9478333333333333\n",
      "Confusion Matrix:\n",
      "[[2929  121]\n",
      " [ 192 2758]]\n",
      "Parameters currently in use:\n",
      "\n",
      "{'bootstrap': True,\n",
      " 'ccp_alpha': 0.0,\n",
      " 'class_weight': None,\n",
      " 'criterion': 'gini',\n",
      " 'max_depth': None,\n",
      " 'max_features': 'auto',\n",
      " 'max_leaf_nodes': None,\n",
      " 'max_samples': None,\n",
      " 'min_impurity_decrease': 0.0,\n",
      " 'min_samples_leaf': 1,\n",
      " 'min_samples_split': 2,\n",
      " 'min_weight_fraction_leaf': 0.0,\n",
      " 'n_estimators': 100,\n",
      " 'n_jobs': None,\n",
      " 'oob_score': False,\n",
      " 'random_state': 100,\n",
      " 'verbose': 0,\n",
      " 'warm_start': False}\n"
     ]
    }
   ],
   "source": [
    "from pprint import pprint\n",
    "from sklearn.model_selection import RandomizedSearchCV\n",
    "print(\"traning...\")\n",
    "rf_w = RandomForestClassifier(random_state=100, n_estimators=100)\n",
    "rf_w.fit(X_train, y_train)\n",
    "y_pred_rf_w = rf_w.predict(X_test)\n",
    "print(\"Accuracy Random Forest : \",\n",
    "      metrics.accuracy_score(y_test, y_pred_rf_w))\n",
    "conf_mat = confusion_matrix(y_test, y_pred_rf_w)\n",
    "print(\"Confusion Matrix:\")\n",
    "print(conf_mat)\n",
    "\n",
    "print('Parameters currently in use:\\n')\n",
    "pprint(rf_w.get_params())\n",
    "\n",
    "# Number of trees in random forest\n",
    "n_estimators = [int(x) for x in np.linspace(start = 100, stop = 2000, num = 10)]\n",
    "# Number of features to consider at every split\n",
    "max_features = ['auto', 'sqrt']\n",
    "# Maximum number of levels in tree\n",
    "max_depth = [int(x) for x in np.linspace(10, 110, num = 11)]\n",
    "max_depth.append(None)\n",
    "# Minimum number of samples required to split a node\n",
    "min_samples_split = [2, 5, 10]\n",
    "# Minimum number of samples required at each leaf node\n",
    "min_samples_leaf = [1, 2, 4]\n",
    "# Method of selecting samples for training each tree\n",
    "bootstrap = [True, False]\n",
    "# Create the random grid\n",
    "random_grid = {'n_estimators': n_estimators,\n",
    "               'max_features': max_features,\n",
    "               'max_depth': max_depth,\n",
    "               'min_samples_split': min_samples_split,\n",
    "               'min_samples_leaf': min_samples_leaf,\n",
    "               'bootstrap': bootstrap}\n"
   ]
  },
  {
   "cell_type": "code",
   "execution_count": 11,
   "metadata": {},
   "outputs": [
    {
     "name": "stdout",
     "output_type": "stream",
     "text": [
      "traning...\n",
      "Fitting 2 folds for each of 100 candidates, totalling 200 fits\n",
      "{'bootstrap': False,\n",
      " 'max_depth': None,\n",
      " 'max_features': 'sqrt',\n",
      " 'min_samples_leaf': 1,\n",
      " 'min_samples_split': 2,\n",
      " 'n_estimators': 311}\n",
      "Accuracy Random Forest :  0.9471666666666667\n",
      "Confusion Matrix:\n",
      "[[2932  118]\n",
      " [ 199 2751]]\n"
     ]
    }
   ],
   "source": [
    "rf_random = RandomizedSearchCV(estimator = rf_w, param_distributions = random_grid, n_iter = 100, cv = 2, verbose=2, random_state=42, n_jobs = -1)\n",
    "# Fit the random search model\n",
    "print(\"traning...\")\n",
    "rf_random.fit(X_train, y_train)\n",
    "pprint(rf_random.best_params_)\n",
    "y_pred_rf_random = rf_random.predict(X_test)\n",
    "print(\"Accuracy Random Forest : \",\n",
    "      metrics.accuracy_score(y_test, y_pred_rf_random))\n",
    "conf_mat = confusion_matrix(y_test, y_pred_rf_random)\n",
    "print(\"Confusion Matrix:\")\n",
    "print(conf_mat)"
   ]
  },
  {
   "cell_type": "code",
   "execution_count": 15,
   "metadata": {},
   "outputs": [
    {
     "name": "stdout",
     "output_type": "stream",
     "text": [
      "traning...\n",
      "Accuracy linear SVM :  0.9233333333333333\n",
      "Confusion Matrix:\n",
      "[[2883  167]\n",
      " [ 293 2657]]\n"
     ]
    }
   ],
   "source": [
    "X = Scale()\n",
    "X = Kbest(X[0], X[1], 52)\n",
    "X_train_svm = X[0]\n",
    "X_test_svm = X[1]\n",
    "#print(\"Training samples SVM: \", X_train_svm.shape)\n",
    "clf = svm.SVC(kernel='rbf', gamma=0.7, C=200, probability= True)\n",
    "print(\"traning...\")\n",
    "clf.fit(X_train_svm, y_train)\n",
    "y_pred = clf.predict(X_test_svm)\n",
    "print(\"Accuracy linear SVM : \", metrics.accuracy_score(y_test, y_pred))\n",
    "conf_mat = confusion_matrix(y_test, y_pred)\n",
    "print(\"Confusion Matrix:\")\n",
    "print(conf_mat)\n",
    "\n"
   ]
  },
  {
   "cell_type": "code",
   "execution_count": 10,
   "metadata": {},
   "outputs": [
    {
     "name": "stdout",
     "output_type": "stream",
     "text": [
      "Fitting 2 folds for each of 9 candidates, totalling 18 fits\n",
      "[CV 1/2] END .....C=0.65, gamma=150, kernel=rbf;, score=0.824 total time=  19.9s\n",
      "[CV 2/2] END .....C=0.65, gamma=150, kernel=rbf;, score=0.833 total time=  17.6s\n",
      "[CV 1/2] END .....C=0.65, gamma=200, kernel=rbf;, score=0.819 total time=  17.7s\n",
      "[CV 2/2] END .....C=0.65, gamma=200, kernel=rbf;, score=0.828 total time=  17.9s\n",
      "[CV 1/2] END .....C=0.65, gamma=250, kernel=rbf;, score=0.813 total time=  19.1s\n",
      "[CV 2/2] END .....C=0.65, gamma=250, kernel=rbf;, score=0.823 total time=  19.1s\n",
      "[CV 1/2] END ......C=0.7, gamma=150, kernel=rbf;, score=0.830 total time=  17.3s\n",
      "[CV 2/2] END ......C=0.7, gamma=150, kernel=rbf;, score=0.837 total time=  17.5s\n",
      "[CV 1/2] END ......C=0.7, gamma=200, kernel=rbf;, score=0.823 total time=  20.0s\n",
      "[CV 2/2] END ......C=0.7, gamma=200, kernel=rbf;, score=0.831 total time=  18.2s\n",
      "[CV 1/2] END ......C=0.7, gamma=250, kernel=rbf;, score=0.817 total time=  19.8s\n",
      "[CV 2/2] END ......C=0.7, gamma=250, kernel=rbf;, score=0.826 total time=  19.1s\n",
      "[CV 1/2] END .....C=0.75, gamma=150, kernel=rbf;, score=0.835 total time=  17.8s\n",
      "[CV 2/2] END .....C=0.75, gamma=150, kernel=rbf;, score=0.839 total time=  18.7s\n",
      "[CV 1/2] END .....C=0.75, gamma=200, kernel=rbf;, score=0.826 total time=  18.6s\n",
      "[CV 2/2] END .....C=0.75, gamma=200, kernel=rbf;, score=0.834 total time=  18.8s\n",
      "[CV 1/2] END .....C=0.75, gamma=250, kernel=rbf;, score=0.820 total time=  20.0s\n",
      "[CV 2/2] END .....C=0.75, gamma=250, kernel=rbf;, score=0.829 total time=  20.4s\n",
      "{'C': 0.75, 'gamma': 150, 'kernel': 'rbf'}\n",
      "SVC(C=0.75, gamma=150, probability=True)\n",
      "              precision    recall  f1-score   support\n",
      "\n",
      "           0       0.81      0.99      0.89      3050\n",
      "           1       0.99      0.75      0.86      2950\n",
      "\n",
      "    accuracy                           0.88      6000\n",
      "   macro avg       0.90      0.87      0.87      6000\n",
      "weighted avg       0.90      0.88      0.87      6000\n",
      "\n",
      "Accuracy Random Forest :  0.8756666666666667\n"
     ]
    }
   ],
   "source": [
    "from sklearn.model_selection import GridSearchCV\n",
    "\n",
    "#param_grid = {'C': [ 0.55,0.60,0.65,0.7,0.75],\n",
    "#\t\t\t'gamma': [90,100,150, 200, 250],\n",
    "#\t\t\t}\n",
    "\n",
    "param_grid = {'C': [0.65,0.7,0.75],\n",
    "\t\t\t'gamma': [150, 200,250],\n",
    "            \"kernel\": ['rbf']}\n",
    "\t\t\t\n",
    "\n",
    "grid = GridSearchCV(clf, param_grid, refit = True, cv=2,verbose=3)\n",
    "# fitting the model for grid search\n",
    "grid.fit(X_train_svm, y_train)\n",
    "# print best parameter after tuning\n",
    "print(grid.best_params_)\n",
    "\n",
    "# print how our model looks after hyper-parameter tuning\n",
    "print(grid.best_estimator_)\n",
    "grid_predictions = grid.predict(X_test_svm)\n",
    "\n",
    "# print classification report\n",
    "print(classification_report(y_test, grid_predictions))\n",
    "print(\"Accuracy Besy grid SVM : \",\n",
    "      metrics.accuracy_score(y_test, grid_predictions))"
   ]
  },
  {
   "cell_type": "code",
   "execution_count": 12,
   "metadata": {},
   "outputs": [
    {
     "name": "stdout",
     "output_type": "stream",
     "text": [
      "Confusion Matrix:\n",
      "[[3028   22]\n",
      " [ 724 2226]]\n",
      "0.8070362473347548\n"
     ]
    }
   ],
   "source": [
    "conf_mat = confusion_matrix(y_test, grid_predictions)\n",
    "print(\"Confusion Matrix:\")\n",
    "print(conf_mat)\n",
    "print(NPV(y_test, grid_predictions))"
   ]
  },
  {
   "cell_type": "code",
   "execution_count": 33,
   "metadata": {},
   "outputs": [
    {
     "name": "stdout",
     "output_type": "stream",
     "text": [
      "Fitting 3 folds for each of 24 candidates, totalling 72 fits\n",
      "{'min_samples_leaf': 1, 'min_samples_split': 2, 'n_estimators': 100}\n",
      "Accuracy Random Forest :  0.9478333333333333\n",
      "Confusion Matrix:\n",
      "[[2929  121]\n",
      " [ 192 2758]]\n"
     ]
    }
   ],
   "source": [
    "from sklearn.model_selection import GridSearchCV\n",
    "# Create the parameter grid based on the results of random search \n",
    "param_grid = {\n",
    "    'min_samples_leaf': [1,2,3,4],\n",
    "    'min_samples_split': [2, 3,4],\n",
    "    'n_estimators': [90,100]\n",
    "}\n",
    "\n",
    "grid_search = GridSearchCV(estimator = rf_w, param_grid = param_grid, \n",
    "                          cv = 3, n_jobs = -1, verbose = 2)\n",
    "grid_search.fit(X_train, y_train)\n",
    "print(grid_search.best_params_)\n",
    "best_grid = grid_search.best_estimator_\n",
    "y_pred_rf_grid = best_grid.predict(X_test)\n",
    "print(\"Accuracy Random Forest : \",\n",
    "      metrics.accuracy_score(y_test, y_pred_rf_grid))\n",
    "conf_mat = confusion_matrix(y_test, y_pred_rf_grid)\n",
    "print(\"Confusion Matrix:\")\n",
    "print(conf_mat)"
   ]
  },
  {
   "cell_type": "code",
   "execution_count": 39,
   "metadata": {},
   "outputs": [
    {
     "name": "stdout",
     "output_type": "stream",
     "text": [
      "{'C': 0.85, 'gamma': 100}\n",
      "SVC(C=0.85, gamma=100)\n",
      "              precision    recall  f1-score   support\n",
      "\n",
      "           0       0.82      0.99      0.90      3050\n",
      "           1       0.99      0.78      0.87      2950\n",
      "\n",
      "    accuracy                           0.89      6000\n",
      "   macro avg       0.91      0.89      0.89      6000\n",
      "weighted avg       0.90      0.89      0.89      6000\n",
      "\n",
      "Accuracy Random Forest :  0.8871666666666667\n"
     ]
    },
    {
     "data": {
      "image/png": "[encoded data removed]",
      "text/plain": [
       "<Figure size 432x288 with 1 Axes>"
      ]
     },
     "metadata": {
      "needs_background": "light"
     },
     "output_type": "display_data"
    }
   ],
   "source": [
    "from sklearn.model_selection import GridSearchCV\n",
    "\n",
    "# defining parameter range\n",
    "param_grid = {'C': [ 0.7,0.75, 0.8,0.85],\n",
    "\t\t\t'gamma': [100,150, 200, 250],\n",
    "\t\t\t}\n",
    "\n",
    "grid = GridSearchCV(svm.SVC(), param_grid, refit = True, cv=3)\n",
    "X = Scale()\n",
    "X = Kbest(X[0], X[1], 52)\n",
    "X_train_svm = X[0]\n",
    "X_test_svm = X[1]\n",
    "# fitting the model for grid search\n",
    "grid.fit(X_train_svm, y_train)\n",
    "# print best parameter after tuning\n",
    "print(grid.best_params_)\n",
    "\n",
    "# print how our model looks after hyper-parameter tuning\n",
    "print(grid.best_estimator_)\n",
    "grid_predictions = grid.predict(X_test_svm)\n",
    " \n",
    "# print classification report\n",
    "print(classification_report(y_test, grid_predictions))\n",
    "print(\"Accuracy Random Forest : \",\n",
    "      metrics.accuracy_score(y_test, grid_predictions))\n",
    "svc_disp = RocCurveDisplay.from_estimator(grid, X_test_svm, y_test)\n",
    "plt.show()\n",
    "\n"
   ]
  },
  {
   "cell_type": "code",
   "execution_count": 40,
   "metadata": {},
   "outputs": [
    {
     "name": "stdout",
     "output_type": "stream",
     "text": [
      "[[3019   31]\n",
      " [ 646 2304]]\n"
     ]
    }
   ],
   "source": [
    "print(confusion_matrix(y_test, grid_predictions))"
   ]
  },
  {
   "cell_type": "code",
   "execution_count": 25,
   "metadata": {},
   "outputs": [
    {
     "name": "stdout",
     "output_type": "stream",
     "text": [
      "Training..\n",
      "Confusion Matrix:\n",
      "[[2886  164]\n",
      " [ 235 2715]]\n",
      "Accuracy of MLPClassifier using the function : 0.9335\n",
      "Accuracy MLP:  0.9335\n"
     ]
    },
    {
     "name": "stderr",
     "output_type": "stream",
     "text": [
      "  0%|          | 0/51 [00:00<?, ?it/s]"
     ]
    },
    {
     "name": "stdout",
     "output_type": "stream",
     "text": [
      "Training Samples:  (14000, 1)\n",
      "Training..\n"
     ]
    },
    {
     "name": "stderr",
     "output_type": "stream",
     "text": [
      "  2%|▏         | 1/51 [00:08<06:54,  8.30s/it]"
     ]
    },
    {
     "name": "stdout",
     "output_type": "stream",
     "text": [
      "Accuracy MLP:  1 =  0.7186666666666667\n",
      "Training Samples:  (14000, 2)\n",
      "Training..\n"
     ]
    },
    {
     "name": "stderr",
     "output_type": "stream",
     "text": [
      "c:\\Users\\moham\\OneDrive\\Desktop\\malware\\env\\lib\\site-packages\\sklearn\\neural_network\\_multilayer_perceptron.py:699: UserWarning: Training interrupted by user.\n",
      "  warnings.warn(\"Training interrupted by user.\")\n",
      "  4%|▍         | 2/51 [00:21<09:07, 11.17s/it]"
     ]
    },
    {
     "name": "stdout",
     "output_type": "stream",
     "text": [
      "Accuracy MLP:  2 =  0.7673333333333333\n",
      "Training Samples:  (14000, 3)\n",
      "Training..\n"
     ]
    },
    {
     "name": "stderr",
     "output_type": "stream",
     "text": [
      "c:\\Users\\moham\\OneDrive\\Desktop\\malware\\env\\lib\\site-packages\\sklearn\\neural_network\\_multilayer_perceptron.py:699: UserWarning: Training interrupted by user.\n",
      "  warnings.warn(\"Training interrupted by user.\")\n",
      "  6%|▌         | 3/51 [00:44<13:11, 16.49s/it]"
     ]
    },
    {
     "name": "stdout",
     "output_type": "stream",
     "text": [
      "Accuracy MLP:  3 =  0.8091666666666667\n",
      "Training Samples:  (14000, 4)\n",
      "Training..\n"
     ]
    }
   ],
   "source": [
    "classifier = MLPClassifier(hidden_layer_sizes=(150,100,50), max_iter=300,activation = 'relu',solver='adam',random_state=1)\n",
    "X = Scale()\n",
    "X = Kbest(X[0], X[1], 49)\n",
    "X_train_svm = X[0]\n",
    "X_test_svm = X[1]\n",
    "print('Training..')\n",
    "classifier.fit(X_train_svm, y_train)\n",
    "y_pred = classifier.predict(X_test_svm)\n",
    "conf_mat = confusion_matrix(y_test, y_pred)\n",
    "print(\"Confusion Matrix:\")\n",
    "print(conf_mat)\n",
    "print(\"Accuracy of MLPClassifier using the function :\", accuracyCM(conf_mat))\n",
    "print(\"Accuracy MLP: \", metrics.accuracy_score(y_test, y_pred))\n",
    "\n",
    "\n",
    "classifier = MLPClassifier(hidden_layer_sizes=(150,100,50), max_iter=300,activation = 'relu',solver='adam',random_state=1)\n",
    "a=0\n",
    "j=0\n",
    "for i in tqdm(range(1,52)):\n",
    "    X1 = Kbest(X[0], X[1], i)\n",
    "    X_train_svm = X1[0]\n",
    "    X_test_svm = X1[1]\n",
    "    print(\"Training Samples: \", X_train_svm.shape)\n",
    "    print('Training..')\n",
    "    classifier.fit(X_train_svm, y_train)\n",
    "    y_pred = classifier.predict(X_test_svm)\n",
    "    temp=  metrics.accuracy_score(y_test, y_pred)\n",
    "    if temp > a:\n",
    "        a = temp\n",
    "        j = i\n",
    "    print(\"Accuracy MLP: \",i ,\"= \", metrics.accuracy_score(y_test, y_pred))\n",
    "\n",
    "print(\"Best Accuracy: \", a)\n",
    "print(\"Best K: \", j)\n",
    "\n"
   ]
  }
 ],
 "metadata": {
  "interpreter": {
   "hash": "84a32eddde857eea1124ae266fb162d150ebfcc6b63fb8d8eb4ad6695eee3bdc"
  },
  "kernelspec": {
   "display_name": "Python 3.9.1 ('env': venv)",
   "language": "python",
   "name": "python3"
  },
  "language_info": {
   "codemirror_mode": {
    "name": "ipython",
    "version": 3
   },
   "file_extension": ".py",
   "mimetype": "text/x-python",
   "name": "python",
   "nbconvert_exporter": "python",
   "pygments_lexer": "ipython3",
   "version": "3.9.1"
  },
  "orig_nbformat": 4
 },
 "nbformat": 4,
 "nbformat_minor": 2
}
